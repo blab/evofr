{
 "cells": [
  {
   "cell_type": "code",
   "execution_count": null,
   "id": "922d9525",
   "metadata": {},
   "outputs": [],
   "source": [
    "import pandas as pd\n",
    "import jax.numpy as jnp\n",
    "import evofr as ef"
   ]
  },
  {
   "cell_type": "code",
   "execution_count": 2,
   "id": "ed4c6dd6",
   "metadata": {},
   "outputs": [],
   "source": [
    "# Getting data\n",
    "raw_seq = pd.read_csv(\"../../rt-from-frequency-dynamics/data/omicron-us-split/omicron-us-split_location-variant-sequence-counts.tsv\", sep=\"\\t\")\n",
    "raw_cases = pd.read_csv(\"../../rt-from-frequency-dynamics/data/omicron-us-split/omicron-us-split_location-case-counts.tsv\", sep=\"\\t\")\n",
    "\n",
    "raw_cases = raw_cases[raw_cases.location == \"Washington\"]\n",
    "raw_seq = raw_seq[raw_seq.location == \"Washington\"]\n",
    "variant_data = ef.CaseFrequencyData(raw_cases=raw_cases, raw_seq=raw_seq)"
   ]
  },
  {
   "cell_type": "code",
   "execution_count": 3,
   "id": "9ca1a23d",
   "metadata": {},
   "outputs": [],
   "source": [
    "# Defining model\n",
    "seed_L = 14\n",
    "forecast_L = 7\n",
    "\n",
    "# Get delays\n",
    "v_names = ['Delta', \n",
    "           'Omicron 21L', \n",
    "           'Omicron 21K', \n",
    "           'Omicron 22A', \n",
    "           'Omicron 22B', \n",
    "           'Omicron 22C', \n",
    "           'other']\n",
    "\n",
    "gen = ef.pad_delays(\n",
    "    [ef.discretise_gamma(mn=4.4, std=1.2), # Delta\n",
    "     ef.discretise_gamma(mn=3.1, std=1.2), # Omicron 21L\n",
    "     ef.discretise_gamma(mn=3.1, std=1.2), # Omicron 21K\n",
    "     ef.discretise_gamma(mn=3.1, std=1.2), # Omicron 22A\n",
    "     ef.discretise_gamma(mn=3.1, std=1.2), # Omicron 22B\n",
    "     ef.discretise_gamma(mn=3.1, std=1.2), # Omicron 22C\n",
    "     ef.discretise_gamma(mn=4.4, std=1.2)] # Other\n",
    "    )\n",
    "\n",
    "delays = ef.pad_delays([ef.discretise_lognorm(mn=3.1, std=1.0)])\n",
    "    \n",
    "\n",
    "    \n",
    "spline_model = ef.SplineIncidenceModel(k=10,\n",
    "                       CLik = ef.ZINegBinomCases(0.05),\n",
    "                       SLik = ef.DirMultinomialSeq(100))"
   ]
  },
  {
   "cell_type": "code",
   "execution_count": 5,
   "id": "2a7e6608",
   "metadata": {},
   "outputs": [],
   "source": [
    "# Fititng model\n",
    "svi_MAP = ef.InferMAP(iters=20_000, lr=0.01)\n",
    "posterior = svi_MAP.fit(spline_model, variant_data)"
   ]
  },
  {
   "cell_type": "code",
   "execution_count": null,
   "id": "5ee1e846",
   "metadata": {},
   "outputs": [],
   "source": [
    "import matplotlib\n",
    "import matplotlib.pyplot as plt\n",
    "import matplotlib.transforms as mtransforms\n",
    "\n",
    "font = {'family' : 'Helvetica',\n",
    "        'weight' : 'light',\n",
    "        'size'   : 26}\n",
    "\n",
    "matplotlib.rc('font', **font)"
   ]
  },
  {
   "cell_type": "code",
   "execution_count": null,
   "id": "6f635f1e",
   "metadata": {},
   "outputs": [],
   "source": [
    "ps = [0.95, 0.8, 0.5]\n",
    "alphas = [0.2, 0.4, 0.6]\n",
    "\n",
    "\n",
    "v_colors = [\"#56e39f\", \"#89CFF0\", \"#C70039\",  \"#5567aa\", \"#c5d46f\", \"#aa34a4\", \"#808080\"]\n",
    "\n",
    "v_names = ['Delta', \n",
    "           'Omicron 21L', \n",
    "           'Omicron 21K', \n",
    "           'Omicron 22A', \n",
    "           'Omicron 22B', \n",
    "           'Omicron 22C', \n",
    "           'other']\n",
    "color_map = {v : c for c, v in zip(v_colors, v_names)}"
   ]
  },
  {
   "cell_type": "code",
   "execution_count": null,
   "id": "4bac2818",
   "metadata": {},
   "outputs": [],
   "source": [
    "from evofr.plotting import *"
   ]
  },
  {
   "cell_type": "code",
   "execution_count": null,
   "id": "13710545",
   "metadata": {},
   "outputs": [],
   "source": [
    "fig = plt.figure(figsize=(10, 10))\n",
    "gs = fig.add_gridspec(nrows=2, ncols=1)\n",
    "\n",
    "colors = [color_map[v] for v in variant_data.var_names] # Mapping colors to observed variants\n",
    "\n",
    "# Plot variant specific indicidence\n",
    "ax = fig.add_subplot(gs[0,0])\n",
    "plot_posterior_I(ax, posterior.dataset, ps, alphas, colors)\n",
    "plot_cases(ax, variant_data)\n",
    "ax.set_ylabel(\"Cases\") # Making ylabel\n",
    "\n",
    "\n",
    "# Plot predicted frequencies\n",
    "ax = fig.add_subplot(gs[1,0], sharex=ax)\n",
    "plot_posterior_frequency(ax, posterior.dataset, ps, alphas, colors)\n",
    "plot_observed_frequency(ax, variant_data, colors) # Plot observed frequencies\n",
    "\n",
    "ax.axvline(x=len(variant_data.dates)-1, color='k', linestyle='--') # Adding forecast cut off\n",
    "add_dates_sep(ax, ef.data.expand_dates(variant_data.dates, forecast_L), sep=20) # Adding dates\n",
    "ax.set_ylabel(\"Variant frequency\") # Making ylabel\n",
    "\n",
    "\n",
    "# Make legend\n",
    "patches = [matplotlib.patches.Patch(color=c, label=l) for l, c in color_map.items()]\n",
    "legend = fig.legend(patches, list(color_map.keys()), ncol=len(color_map.keys()), loc=\"lower center\")  \n",
    "legend.get_frame().set_linewidth(2.)\n",
    "legend.get_frame().set_edgecolor(\"k\")\n",
    "fig.tight_layout()\n",
    "fig.subplots_adjust(bottom = 0.1)"
   ]
  },
  {
   "cell_type": "code",
   "execution_count": null,
   "id": "0d8aa1cd",
   "metadata": {},
   "outputs": [],
   "source": [
    "fig = plt.figure(figsize=(10, 10))\n",
    "gs = fig.add_gridspec(nrows=2, ncols=1)\n",
    "\n",
    "colors = [color_map[v] for v in variant_data.var_names] # Mapping colors to observed variants\n",
    "\n",
    "# Plot Reff\n",
    "ax = fig.add_subplot(gs[0,0])\n",
    "plot_R_censored(ax, posterior.dataset, ps, alphas, colors)\n",
    "ax.set_ylabel(\"Effective Reproduction number\") # Making ylabel\n",
    "\n",
    "# Plot little R\n",
    "ax = fig.add_subplot(gs[1,0])\n",
    "plot_little_r_censored(ax, posterior.dataset, ps, alphas, colors)\n",
    "add_dates_sep(ax, variant_data.dates, sep=20) # Adding dates\n",
    "ax.set_ylabel(\"Epidemic growth rate (per day)\") # Making ylabel\n",
    "\n",
    "\n",
    "# Make legend\n",
    "patches = [matplotlib.patches.Patch(color=c, label=l) for l, c in color_map.items()]\n",
    "legend = fig.legend(patches, list(color_map.keys()), ncol=len(color_map.keys()), loc=\"lower center\")  \n",
    "legend.get_frame().set_linewidth(2.)\n",
    "legend.get_frame().set_edgecolor(\"k\")\n",
    "fig.tight_layout()\n",
    "fig.subplots_adjust(bottom = 0.1)"
   ]
  },
  {
   "cell_type": "code",
   "execution_count": null,
   "id": "7f2ca4d9",
   "metadata": {},
   "outputs": [],
   "source": []
  }
 ],
 "metadata": {
  "kernelspec": {
   "display_name": "Python 3 (ipykernel)",
   "language": "python",
   "name": "python3"
  },
  "language_info": {
   "codemirror_mode": {
    "name": "ipython",
    "version": 3
   },
   "file_extension": ".py",
   "mimetype": "text/x-python",
   "name": "python",
   "nbconvert_exporter": "python",
   "pygments_lexer": "ipython3",
   "version": "3.9.13"
  }
 },
 "nbformat": 4,
 "nbformat_minor": 5
}
